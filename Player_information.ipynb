{
  "nbformat": 4,
  "nbformat_minor": 0,
  "metadata": {
    "colab": {
      "name": "DSWP Asst.ipynb",
      "provenance": [],
      "collapsed_sections": []
    },
    "kernelspec": {
      "name": "python3",
      "display_name": "Python 3"
    },
    "language_info": {
      "name": "python"
    }
  },
  "cells": [
    {
      "cell_type": "markdown",
      "source": [
        "Create a datbase with dataframe consisting of 10 players of 2 categories:\n",
        "Bowler and Batsman. Features are 'no of Runs' and 'no of Wickets' achieved.\n",
        "  For a batsman, the no of runs > 1000 and wickets < 20.\n",
        "  For a bowler, the no of runs < 200 and wickets > 100.\n",
        "Create both scatter plot and bar plots respectively.  \n"
      ],
      "metadata": {
        "id": "l2Q27M4xva6-"
      }
    },
    {
      "cell_type": "code",
      "execution_count": 7,
      "metadata": {
        "id": "lpJ1NVHAnM6C"
      },
      "outputs": [],
      "source": [
        "import numpy as np\n",
        "import pandas as pd\n",
        "import matplotlib.pyplot as plt"
      ]
    },
    {
      "cell_type": "code",
      "source": [
        "data={\n",
        "    \"Names\":['Arun','Bhagvan','Chandra','Dinesh','Eshwar','Farhaan','Ganesh','Harsha','Indhra','Jagadish'],\n",
        "    \"Runs\":[1200,100,1800,1022,150,180,1300,180,120,100],\n",
        "    \"Wickets\":[10,120,18,12,180,200,16,275,232,208],\n",
        "    \"Type\":['Batsman','Bowler','Batsman','Batsman','Bowler','Bowler','Batsman','Bowler','Bowler','Bowler']\n",
        "}\n",
        "df=pd.DataFrame(data,index=['p1','p2','p3','p4','p5','p6','p7','p8','p9','p10'])\n",
        "df"
      ],
      "metadata": {
        "colab": {
          "base_uri": "https://localhost:8080/",
          "height": 363
        },
        "id": "lnOEXK6pn4-t",
        "outputId": "9fb3439a-24ae-46b8-ba2c-faf815c97df3"
      },
      "execution_count": 20,
      "outputs": [
        {
          "output_type": "execute_result",
          "data": {
            "text/plain": [
              "        Names  Runs  Wickets     Type\n",
              "p1       Arun  1200       10  Batsman\n",
              "p2    Bhagvan   100      120   Bowler\n",
              "p3    Chandra  1800       18  Batsman\n",
              "p4     Dinesh  1022       12  Batsman\n",
              "p5     Eshwar   150      180   Bowler\n",
              "p6    Farhaan   180      200   Bowler\n",
              "p7     Ganesh  1300       16  Batsman\n",
              "p8     Harsha   180      275   Bowler\n",
              "p9     Indhra   120      232   Bowler\n",
              "p10  Jagadish   100      208   Bowler"
            ],
            "text/html": [
              "\n",
              "  <div id=\"df-c0af3d3a-9704-49fb-95e2-94b7821f935a\">\n",
              "    <div class=\"colab-df-container\">\n",
              "      <div>\n",
              "<style scoped>\n",
              "    .dataframe tbody tr th:only-of-type {\n",
              "        vertical-align: middle;\n",
              "    }\n",
              "\n",
              "    .dataframe tbody tr th {\n",
              "        vertical-align: top;\n",
              "    }\n",
              "\n",
              "    .dataframe thead th {\n",
              "        text-align: right;\n",
              "    }\n",
              "</style>\n",
              "<table border=\"1\" class=\"dataframe\">\n",
              "  <thead>\n",
              "    <tr style=\"text-align: right;\">\n",
              "      <th></th>\n",
              "      <th>Names</th>\n",
              "      <th>Runs</th>\n",
              "      <th>Wickets</th>\n",
              "      <th>Type</th>\n",
              "    </tr>\n",
              "  </thead>\n",
              "  <tbody>\n",
              "    <tr>\n",
              "      <th>p1</th>\n",
              "      <td>Arun</td>\n",
              "      <td>1200</td>\n",
              "      <td>10</td>\n",
              "      <td>Batsman</td>\n",
              "    </tr>\n",
              "    <tr>\n",
              "      <th>p2</th>\n",
              "      <td>Bhagvan</td>\n",
              "      <td>100</td>\n",
              "      <td>120</td>\n",
              "      <td>Bowler</td>\n",
              "    </tr>\n",
              "    <tr>\n",
              "      <th>p3</th>\n",
              "      <td>Chandra</td>\n",
              "      <td>1800</td>\n",
              "      <td>18</td>\n",
              "      <td>Batsman</td>\n",
              "    </tr>\n",
              "    <tr>\n",
              "      <th>p4</th>\n",
              "      <td>Dinesh</td>\n",
              "      <td>1022</td>\n",
              "      <td>12</td>\n",
              "      <td>Batsman</td>\n",
              "    </tr>\n",
              "    <tr>\n",
              "      <th>p5</th>\n",
              "      <td>Eshwar</td>\n",
              "      <td>150</td>\n",
              "      <td>180</td>\n",
              "      <td>Bowler</td>\n",
              "    </tr>\n",
              "    <tr>\n",
              "      <th>p6</th>\n",
              "      <td>Farhaan</td>\n",
              "      <td>180</td>\n",
              "      <td>200</td>\n",
              "      <td>Bowler</td>\n",
              "    </tr>\n",
              "    <tr>\n",
              "      <th>p7</th>\n",
              "      <td>Ganesh</td>\n",
              "      <td>1300</td>\n",
              "      <td>16</td>\n",
              "      <td>Batsman</td>\n",
              "    </tr>\n",
              "    <tr>\n",
              "      <th>p8</th>\n",
              "      <td>Harsha</td>\n",
              "      <td>180</td>\n",
              "      <td>275</td>\n",
              "      <td>Bowler</td>\n",
              "    </tr>\n",
              "    <tr>\n",
              "      <th>p9</th>\n",
              "      <td>Indhra</td>\n",
              "      <td>120</td>\n",
              "      <td>232</td>\n",
              "      <td>Bowler</td>\n",
              "    </tr>\n",
              "    <tr>\n",
              "      <th>p10</th>\n",
              "      <td>Jagadish</td>\n",
              "      <td>100</td>\n",
              "      <td>208</td>\n",
              "      <td>Bowler</td>\n",
              "    </tr>\n",
              "  </tbody>\n",
              "</table>\n",
              "</div>\n",
              "      <button class=\"colab-df-convert\" onclick=\"convertToInteractive('df-c0af3d3a-9704-49fb-95e2-94b7821f935a')\"\n",
              "              title=\"Convert this dataframe to an interactive table.\"\n",
              "              style=\"display:none;\">\n",
              "        \n",
              "  <svg xmlns=\"http://www.w3.org/2000/svg\" height=\"24px\"viewBox=\"0 0 24 24\"\n",
              "       width=\"24px\">\n",
              "    <path d=\"M0 0h24v24H0V0z\" fill=\"none\"/>\n",
              "    <path d=\"M18.56 5.44l.94 2.06.94-2.06 2.06-.94-2.06-.94-.94-2.06-.94 2.06-2.06.94zm-11 1L8.5 8.5l.94-2.06 2.06-.94-2.06-.94L8.5 2.5l-.94 2.06-2.06.94zm10 10l.94 2.06.94-2.06 2.06-.94-2.06-.94-.94-2.06-.94 2.06-2.06.94z\"/><path d=\"M17.41 7.96l-1.37-1.37c-.4-.4-.92-.59-1.43-.59-.52 0-1.04.2-1.43.59L10.3 9.45l-7.72 7.72c-.78.78-.78 2.05 0 2.83L4 21.41c.39.39.9.59 1.41.59.51 0 1.02-.2 1.41-.59l7.78-7.78 2.81-2.81c.8-.78.8-2.07 0-2.86zM5.41 20L4 18.59l7.72-7.72 1.47 1.35L5.41 20z\"/>\n",
              "  </svg>\n",
              "      </button>\n",
              "      \n",
              "  <style>\n",
              "    .colab-df-container {\n",
              "      display:flex;\n",
              "      flex-wrap:wrap;\n",
              "      gap: 12px;\n",
              "    }\n",
              "\n",
              "    .colab-df-convert {\n",
              "      background-color: #E8F0FE;\n",
              "      border: none;\n",
              "      border-radius: 50%;\n",
              "      cursor: pointer;\n",
              "      display: none;\n",
              "      fill: #1967D2;\n",
              "      height: 32px;\n",
              "      padding: 0 0 0 0;\n",
              "      width: 32px;\n",
              "    }\n",
              "\n",
              "    .colab-df-convert:hover {\n",
              "      background-color: #E2EBFA;\n",
              "      box-shadow: 0px 1px 2px rgba(60, 64, 67, 0.3), 0px 1px 3px 1px rgba(60, 64, 67, 0.15);\n",
              "      fill: #174EA6;\n",
              "    }\n",
              "\n",
              "    [theme=dark] .colab-df-convert {\n",
              "      background-color: #3B4455;\n",
              "      fill: #D2E3FC;\n",
              "    }\n",
              "\n",
              "    [theme=dark] .colab-df-convert:hover {\n",
              "      background-color: #434B5C;\n",
              "      box-shadow: 0px 1px 3px 1px rgba(0, 0, 0, 0.15);\n",
              "      filter: drop-shadow(0px 1px 2px rgba(0, 0, 0, 0.3));\n",
              "      fill: #FFFFFF;\n",
              "    }\n",
              "  </style>\n",
              "\n",
              "      <script>\n",
              "        const buttonEl =\n",
              "          document.querySelector('#df-c0af3d3a-9704-49fb-95e2-94b7821f935a button.colab-df-convert');\n",
              "        buttonEl.style.display =\n",
              "          google.colab.kernel.accessAllowed ? 'block' : 'none';\n",
              "\n",
              "        async function convertToInteractive(key) {\n",
              "          const element = document.querySelector('#df-c0af3d3a-9704-49fb-95e2-94b7821f935a');\n",
              "          const dataTable =\n",
              "            await google.colab.kernel.invokeFunction('convertToInteractive',\n",
              "                                                     [key], {});\n",
              "          if (!dataTable) return;\n",
              "\n",
              "          const docLinkHtml = 'Like what you see? Visit the ' +\n",
              "            '<a target=\"_blank\" href=https://colab.research.google.com/notebooks/data_table.ipynb>data table notebook</a>'\n",
              "            + ' to learn more about interactive tables.';\n",
              "          element.innerHTML = '';\n",
              "          dataTable['output_type'] = 'display_data';\n",
              "          await google.colab.output.renderOutput(dataTable, element);\n",
              "          const docLink = document.createElement('div');\n",
              "          docLink.innerHTML = docLinkHtml;\n",
              "          element.appendChild(docLink);\n",
              "        }\n",
              "      </script>\n",
              "    </div>\n",
              "  </div>\n",
              "  "
            ]
          },
          "metadata": {},
          "execution_count": 20
        }
      ]
    },
    {
      "cell_type": "code",
      "source": [
        "y=df['Runs']\n",
        "z=df['Wickets']\n",
        "x=df['Names']"
      ],
      "metadata": {
        "id": "6GHOGNhiqTwq"
      },
      "execution_count": 21,
      "outputs": []
    },
    {
      "cell_type": "code",
      "source": [
        "plt.scatter(y,x)\n",
        "plt.show()#runs"
      ],
      "metadata": {
        "colab": {
          "base_uri": "https://localhost:8080/",
          "height": 265
        },
        "id": "dzVXAeEHrYYY",
        "outputId": "65849f90-128f-43ed-8214-139fed8a74b6"
      },
      "execution_count": 22,
      "outputs": [
        {
          "output_type": "display_data",
          "data": {
            "text/plain": [
              "<Figure size 432x288 with 1 Axes>"
            ],
            "image/png": "[encoded data removed]"
          },
          "metadata": {
            "needs_background": "light"
          }
        }
      ]
    },
    {
      "cell_type": "code",
      "source": [
        "plt.scatter(z,x)\n",
        "plt.show()#wickets"
      ],
      "metadata": {
        "colab": {
          "base_uri": "https://localhost:8080/",
          "height": 265
        },
        "id": "hCz4EwzErpsZ",
        "outputId": "4554484d-bdea-494a-f40c-5d541f4636a5"
      },
      "execution_count": 23,
      "outputs": [
        {
          "output_type": "display_data",
          "data": {
            "text/plain": [
              "<Figure size 432x288 with 1 Axes>"
            ],
            "image/png": "[encoded data removed]"
          },
          "metadata": {
            "needs_background": "light"
          }
        }
      ]
    },
    {
      "cell_type": "code",
      "source": [
        "plt.bar(y,x)\n",
        "plt.show()\n",
        "plt.bar(z,x)\n",
        "plt.show()"
      ],
      "metadata": {
        "colab": {
          "base_uri": "https://localhost:8080/",
          "height": 513
        },
        "id": "s6tHeA_MsBkV",
        "outputId": "760a9d80-06a7-4a9c-cb9d-8a05b2f75ad0"
      },
      "execution_count": 24,
      "outputs": [
        {
          "output_type": "display_data",
          "data": {
            "text/plain": [
              "<Figure size 432x288 with 1 Axes>"
            ],
            "image/png": "[encoded data removed]"
          },
          "metadata": {
            "needs_background": "light"
          }
        },
        {
          "output_type": "display_data",
          "data": {
            "text/plain": [
              "<Figure size 432x288 with 1 Axes>"
            ],
            "image/png": "[encoded data removed]"
          },
          "metadata": {
            "needs_background": "light"
          }
        }
      ]
    },
    {
      "cell_type": "code",
      "source": [
        "x=df['Type'].value_counts()\n",
        "x"
      ],
      "metadata": {
        "colab": {
          "base_uri": "https://localhost:8080/"
        },
        "id": "ZvVpn0BVsV7O",
        "outputId": "aa3f8413-6727-46aa-bc24-e9129c39af98"
      },
      "execution_count": 26,
      "outputs": [
        {
          "output_type": "execute_result",
          "data": {
            "text/plain": [
              "Bowler     6\n",
              "Batsman    4\n",
              "Name: Type, dtype: int64"
            ]
          },
          "metadata": {},
          "execution_count": 26
        }
      ]
    },
    {
      "cell_type": "code",
      "source": [
        "plt.bar(x[0],x[1],edgecolor='black')"
      ],
      "metadata": {
        "colab": {
          "base_uri": "https://localhost:8080/",
          "height": 282
        },
        "id": "4lX5DiPItPTb",
        "outputId": "295cf9aa-90ab-4db2-dd7a-de236d093223"
      },
      "execution_count": 28,
      "outputs": [
        {
          "output_type": "execute_result",
          "data": {
            "text/plain": [
              "<BarContainer object of 1 artists>"
            ]
          },
          "metadata": {},
          "execution_count": 28
        },
        {
          "output_type": "display_data",
          "data": {
            "text/plain": [
              "<Figure size 432x288 with 1 Axes>"
            ],
            "image/png": "[encoded data removed]"
          },
          "metadata": {
            "needs_background": "light"
          }
        }
      ]
    },
    {
      "cell_type": "code",
      "source": [
        "x=['Bowler','Batsman']\n",
        "y=df['Type'].value_counts()\n",
        "plt.bar(x,y)"
      ],
      "metadata": {
        "colab": {
          "base_uri": "https://localhost:8080/",
          "height": 282
        },
        "id": "fKJCQbxeuE-6",
        "outputId": "8df8cf89-2e34-4f7e-9e86-6de5b589ac8f"
      },
      "execution_count": 29,
      "outputs": [
        {
          "output_type": "execute_result",
          "data": {
            "text/plain": [
              "<BarContainer object of 2 artists>"
            ]
          },
          "metadata": {},
          "execution_count": 29
        },
        {
          "output_type": "display_data",
          "data": {
            "text/plain": [
              "<Figure size 432x288 with 1 Axes>"
            ],
            "image/png": "[encoded data removed]"
          },
          "metadata": {
            "needs_background": "light"
          }
        }
      ]
    },
    {
      "cell_type": "code",
      "source": [
        "df.to_csv('data.csv')"
      ],
      "metadata": {
        "id": "FNdfjHanw3Gz"
      },
      "execution_count": 30,
      "outputs": []
    }
  ]
}